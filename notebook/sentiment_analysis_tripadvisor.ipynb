{
 "cells": [
  {
   "cell_type": "markdown",
   "source": "# Sentiment analysis notebook\n\n_Alexandra GONCALVES, Sandra KEUTCHA, Elisa NITSCKE_",
   "metadata": {
    "tags": [],
    "cell_id": "00000-1ce77490-c97a-481a-97c4-d9e970ef0fef",
    "deepnote_cell_type": "markdown"
   }
  },
  {
   "cell_type": "code",
   "metadata": {
    "tags": [],
    "cell_id": "00000-660a0c85-86c6-4855-a469-e1fc7bb71bf0",
    "deepnote_to_be_reexecuted": false,
    "source_hash": "b6d4ee30",
    "execution_start": 1638892952116,
    "execution_millis": 3578,
    "deepnote_cell_type": "code"
   },
   "source": "import pandas as pd\nimport nltk\nnltk.download('punkt')\nnltk.download('stopwords')\nnltk.download('wordnet')\nimport pickle\nfrom nltk.corpus import stopwords\nfrom nltk.stem import WordNetLemmatizer\nfrom sklearn.feature_extraction.text import TfidfVectorizer\nfrom sklearn.metrics import accuracy_score\nimport matplotlib.pyplot as plt\nimport seaborn as sns\nimport warnings\nwarnings.filterwarnings(\"ignore\")",
   "execution_count": 1,
   "outputs": [
    {
     "name": "stderr",
     "text": "[nltk_data] Downloading package punkt to /root/nltk_data...\n[nltk_data]   Unzipping tokenizers/punkt.zip.\n[nltk_data] Downloading package stopwords to /root/nltk_data...\n[nltk_data]   Unzipping corpora/stopwords.zip.\n[nltk_data] Downloading package wordnet to /root/nltk_data...\n[nltk_data]   Unzipping corpora/wordnet.zip.\n",
     "output_type": "stream"
    }
   ]
  },
  {
   "cell_type": "code",
   "metadata": {
    "tags": [],
    "cell_id": "00000-abf6b61c-5dc8-413d-a936-c6879832010b",
    "deepnote_to_be_reexecuted": false,
    "source_hash": "76f905fd",
    "execution_start": 1638892955703,
    "execution_millis": 262,
    "deepnote_cell_type": "code"
   },
   "source": "df=pd.read_csv('tripadvisor_hotel_reviews.csv')\ndf = df[:10000]\ndf.head(5)",
   "execution_count": 2,
   "outputs": [
    {
     "output_type": "execute_result",
     "execution_count": 2,
     "data": {
      "application/vnd.deepnote.dataframe.v2+json": {
       "row_count": 5,
       "column_count": 2,
       "columns": [
        {
         "name": "Review",
         "dtype": "object",
         "stats": {
          "unique_count": 5,
          "nan_count": 0,
          "categories": [
           {
            "name": "nice hotel expensive parking got good deal stay hotel anniversary, arrived late evening took advice previous reviews did valet parking, check quick easy, little disappointed non-existent view room room clean nice size, bed comfortable woke stiff neck high pillows, not soundproof like heard music room night morning loud bangs doors opening closing hear people talking hallway, maybe just noisy neighbors, aveda bath products nice, did not goldfish stay nice touch taken advantage staying longer, location great walking distance shopping, overall nice experience having pay 40 parking night,  ",
            "count": 1
           },
           {
            "name": "ok nothing special charge diamond member hilton decided chain shot 20th anniversary seattle, start booked suite paid extra website description not, suite bedroom bathroom standard hotel room, took printed reservation desk showed said things like tv couch ect desk clerk told oh mixed suites description kimpton website sorry free breakfast, got kidding, embassy suits sitting room bathroom bedroom unlike kimpton calls suite, 5 day stay offer correct false advertising, send kimpton preferred guest website email asking failure provide suite advertised website reservation description furnished hard copy reservation printout website desk manager duty did not reply solution, send email trip guest survey did not follow email mail, guess tell concerned guest.the staff ranged indifferent not helpful, asked desk good breakfast spots neighborhood hood told no hotels, gee best breakfast spots seattle 1/2 block away convenient hotel does not know exist, arrived late night 11 pm inside run bellman busy chating cell phone help bags.prior arrival emailed hotel inform 20th anniversary half really picky wanted make sure good, got nice email saying like deliver bottle champagne chocolate covered strawberries room arrival celebrate, told needed foam pillows, arrival no champagne strawberries no foam pillows great room view alley high rise building good not better housekeeping staff cleaner room property, impressed left morning shopping room got short trips 2 hours, beds comfortable.not good ac-heat control 4 x 4 inch screen bring green shine directly eyes night, light sensitive tape controls.this not 4 start hotel clean business hotel super high rates, better chain hotels seattle,  ",
            "count": 1
           },
           {
            "name": "3 others",
            "count": 3
           }
          ]
         }
        },
        {
         "name": "Rating",
         "dtype": "int64",
         "stats": {
          "unique_count": 4,
          "nan_count": 0,
          "min": "2",
          "max": "5",
          "histogram": [
           {
            "bin_start": 2,
            "bin_end": 2.3,
            "count": 1
           },
           {
            "bin_start": 2.3,
            "bin_end": 2.6,
            "count": 0
           },
           {
            "bin_start": 2.6,
            "bin_end": 2.9,
            "count": 0
           },
           {
            "bin_start": 2.9,
            "bin_end": 3.2,
            "count": 1
           },
           {
            "bin_start": 3.2,
            "bin_end": 3.5,
            "count": 0
           },
           {
            "bin_start": 3.5,
            "bin_end": 3.8,
            "count": 0
           },
           {
            "bin_start": 3.8,
            "bin_end": 4.1,
            "count": 1
           },
           {
            "bin_start": 4.1,
            "bin_end": 4.4,
            "count": 0
           },
           {
            "bin_start": 4.4,
            "bin_end": 4.699999999999999,
            "count": 0
           },
           {
            "bin_start": 4.699999999999999,
            "bin_end": 5,
            "count": 2
           }
          ]
         }
        },
        {
         "name": "_deepnote_index_column",
         "dtype": "int64"
        }
       ],
       "rows_top": [
        {
         "Review": "nice hotel expensive parking got good deal stay hotel anniversary, arrived late evening took advice…",
         "Rating": 4,
         "_deepnote_index_column": 0
        },
        {
         "Review": "ok nothing special charge diamond member hilton decided chain shot 20th anniversary seattle, start …",
         "Rating": 2,
         "_deepnote_index_column": 1
        },
        {
         "Review": "nice rooms not 4* experience hotel monaco seattle good hotel n't 4* level.positives large bathroom …",
         "Rating": 3,
         "_deepnote_index_column": 2
        },
        {
         "Review": "unique, great stay, wonderful time hotel monaco, location excellent short stroll main downtown shop…",
         "Rating": 5,
         "_deepnote_index_column": 3
        },
        {
         "Review": "great stay great stay, went seahawk game awesome, downfall view building did n't complain, room hug…",
         "Rating": 5,
         "_deepnote_index_column": 4
        }
       ],
       "rows_bottom": null
      },
      "text/plain": "                                              Review  Rating\n0  nice hotel expensive parking got good deal sta...       4\n1  ok nothing special charge diamond member hilto...       2\n2  nice rooms not 4* experience hotel monaco seat...       3\n3  unique, great stay, wonderful time hotel monac...       5\n4  great stay great stay, went seahawk game aweso...       5",
      "text/html": "<div>\n<style scoped>\n    .dataframe tbody tr th:only-of-type {\n        vertical-align: middle;\n    }\n\n    .dataframe tbody tr th {\n        vertical-align: top;\n    }\n\n    .dataframe thead th {\n        text-align: right;\n    }\n</style>\n<table border=\"1\" class=\"dataframe\">\n  <thead>\n    <tr style=\"text-align: right;\">\n      <th></th>\n      <th>Review</th>\n      <th>Rating</th>\n    </tr>\n  </thead>\n  <tbody>\n    <tr>\n      <th>0</th>\n      <td>nice hotel expensive parking got good deal sta...</td>\n      <td>4</td>\n    </tr>\n    <tr>\n      <th>1</th>\n      <td>ok nothing special charge diamond member hilto...</td>\n      <td>2</td>\n    </tr>\n    <tr>\n      <th>2</th>\n      <td>nice rooms not 4* experience hotel monaco seat...</td>\n      <td>3</td>\n    </tr>\n    <tr>\n      <th>3</th>\n      <td>unique, great stay, wonderful time hotel monac...</td>\n      <td>5</td>\n    </tr>\n    <tr>\n      <th>4</th>\n      <td>great stay great stay, went seahawk game aweso...</td>\n      <td>5</td>\n    </tr>\n  </tbody>\n</table>\n</div>"
     },
     "metadata": {}
    }
   ]
  },
  {
   "cell_type": "code",
   "metadata": {
    "tags": [],
    "cell_id": "00002-e5cc1dd2-4a3a-4e84-9dca-9e88797a183b",
    "deepnote_to_be_reexecuted": false,
    "source_hash": "be3b9ac4",
    "execution_start": 1638892955974,
    "execution_millis": 10,
    "deepnote_cell_type": "code"
   },
   "source": "print(df.isnull().sum())",
   "execution_count": 3,
   "outputs": [
    {
     "name": "stdout",
     "text": "Review    0\nRating    0\ndtype: int64\n",
     "output_type": "stream"
    }
   ]
  },
  {
   "cell_type": "code",
   "metadata": {
    "tags": [],
    "cell_id": "00003-506a09d3-f35b-4a88-9a86-7253a8005d63",
    "deepnote_to_be_reexecuted": false,
    "source_hash": "ab703aa8",
    "execution_start": 1638892955992,
    "execution_millis": 288,
    "deepnote_output_heights": [
     21.1875,
     226
    ],
    "deepnote_cell_type": "code"
   },
   "source": "plt.figure(figsize=(4,3))\nsns.countplot(df[\"Rating\"])\nplt.title(\"Ratings of Hotels\")",
   "execution_count": 4,
   "outputs": [
    {
     "output_type": "execute_result",
     "execution_count": 4,
     "data": {
      "text/plain": "Text(0.5, 1.0, 'Ratings of Hotels')"
     },
     "metadata": {}
    },
    {
     "data": {
      "text/plain": "<Figure size 288x216 with 1 Axes>",
      "image/png": "[encoded data removed]"
     },
     "metadata": {
      "needs_background": "light",
      "image/png": {
       "width": 283,
       "height": 224
      }
     },
     "output_type": "display_data"
    }
   ]
  },
  {
   "cell_type": "code",
   "metadata": {
    "tags": [],
    "cell_id": "00003-4f26a971-4ddd-4122-8094-1cf96219ce81",
    "deepnote_to_be_reexecuted": false,
    "source_hash": "2f88c77a",
    "execution_start": 1638892956323,
    "execution_millis": 4,
    "deepnote_output_heights": [
     21.1875
    ],
    "deepnote_cell_type": "code"
   },
   "source": "len(df)",
   "execution_count": 5,
   "outputs": [
    {
     "output_type": "execute_result",
     "execution_count": 5,
     "data": {
      "text/plain": "10000"
     },
     "metadata": {}
    }
   ]
  },
  {
   "cell_type": "code",
   "metadata": {
    "tags": [],
    "cell_id": "00005-54c927c0-f475-49ab-a6d4-883c070f838d",
    "deepnote_to_be_reexecuted": false,
    "source_hash": "6e90f072",
    "execution_start": 1638892956324,
    "execution_millis": 3,
    "deepnote_output_heights": [
     97.984375
    ],
    "deepnote_cell_type": "code"
   },
   "source": "df.Review[0:4]",
   "execution_count": 6,
   "outputs": [
    {
     "output_type": "execute_result",
     "execution_count": 6,
     "data": {
      "text/plain": "0    nice hotel expensive parking got good deal sta...\n1    ok nothing special charge diamond member hilto...\n2    nice rooms not 4* experience hotel monaco seat...\n3    unique, great stay, wonderful time hotel monac...\nName: Review, dtype: object"
     },
     "metadata": {}
    }
   ]
  },
  {
   "cell_type": "code",
   "metadata": {
    "tags": [],
    "cell_id": "00006-2440f376-5924-4368-9609-0dbfe46227d9",
    "deepnote_to_be_reexecuted": false,
    "source_hash": "b4d581ef",
    "execution_start": 1638892956325,
    "execution_millis": 0,
    "deepnote_cell_type": "code"
   },
   "source": "# df['Review'] = df['Review'].apply(str)",
   "execution_count": 7,
   "outputs": []
  },
  {
   "cell_type": "markdown",
   "source": "### 1. Data Cleaning",
   "metadata": {
    "tags": [],
    "cell_id": "00008-10ba5ae1-8e10-4565-83f1-48a3912a9e09",
    "deepnote_cell_type": "markdown"
   }
  },
  {
   "cell_type": "code",
   "metadata": {
    "tags": [],
    "cell_id": "00004-c4a65329-1e37-4821-980e-94118be700a4",
    "deepnote_to_be_reexecuted": false,
    "source_hash": "b058934",
    "execution_start": 1638892956366,
    "execution_millis": 0,
    "deepnote_cell_type": "code"
   },
   "source": "#Cleaning\nimport re\ndef clean_text(t):\n  #t = BeautifulSoup(t, 'lxml').get_text()\n  t = re.sub(r\"@[A-Za-z0-9]+\", ' ', t) #remove all numbers\n  t = re.sub(r\"https?://[A-Za-z0-9./]+\", ' ', t) #remove all urls\n  t = re.sub(r\"[^a-zA-Z.!?]\", ' ', t) # remove virgule...\n  t = re.sub(r\" +\", ' ', t) #remove useless space\n  return t",
   "execution_count": 8,
   "outputs": []
  },
  {
   "cell_type": "code",
   "metadata": {
    "tags": [],
    "cell_id": "00008-e644ee9a-1953-48da-bc89-e430fad547da",
    "deepnote_to_be_reexecuted": false,
    "source_hash": "e19d0d38",
    "execution_start": 1638892956366,
    "execution_millis": 940,
    "deepnote_output_heights": [
     117.1875
    ],
    "deepnote_cell_type": "code"
   },
   "source": "df['Review'] = df['Review'].map(clean_text)\ndf['Review'].head()",
   "execution_count": 9,
   "outputs": [
    {
     "output_type": "execute_result",
     "execution_count": 9,
     "data": {
      "text/plain": "0    nice hotel expensive parking got good deal sta...\n1    ok nothing special charge diamond member hilto...\n2    nice rooms not experience hotel monaco seattle...\n3    unique great stay wonderful time hotel monaco ...\n4    great stay great stay went seahawk game awesom...\nName: Review, dtype: object"
     },
     "metadata": {}
    }
   ]
  },
  {
   "cell_type": "markdown",
   "source": "### 2. Data Processing",
   "metadata": {
    "tags": [],
    "cell_id": "00011-290ce44b-5dc2-4ed8-b252-33fd210b6aa6",
    "deepnote_cell_type": "markdown"
   }
  },
  {
   "cell_type": "code",
   "metadata": {
    "tags": [],
    "cell_id": "00006-94c8a08b-6e39-441c-bade-c782b96da530",
    "deepnote_to_be_reexecuted": false,
    "source_hash": "87cc4967",
    "execution_start": 1638892957309,
    "execution_millis": 198854,
    "deepnote_output_heights": [
     117.1875
    ],
    "deepnote_cell_type": "code"
   },
   "source": "#Lemmatization et data processing\n\nlemmatizer =  WordNetLemmatizer()\n\ndef processing_reviews(data):\n    df_lower = data.lower() #lowercases the whole dataset\n    df_token = nltk.word_tokenize(df_lower) # each phrase into words (tokens)\n    df_stpwords = [word for word in df_token if not word in set(stopwords.words('english'))] # removes stopwords\n    df_cleaned = [lemmatizer.lemmatize(word) for word in df_stpwords] # changes to the root form\n    return \" \".join(df_cleaned)\n\ndf['Review'] = df['Review'].map(processing_reviews)\ndf['Review'].head()",
   "execution_count": 10,
   "outputs": [
    {
     "output_type": "execute_result",
     "execution_count": 10,
     "data": {
      "text/plain": "0    nice hotel expensive parking got good deal sta...\n1    ok nothing special charge diamond member hilto...\n2    nice room experience hotel monaco seattle good...\n3    unique great stay wonderful time hotel monaco ...\n4    great stay great stay went seahawk game awesom...\nName: Review, dtype: object"
     },
     "metadata": {}
    }
   ]
  },
  {
   "cell_type": "code",
   "metadata": {
    "tags": [],
    "cell_id": "00014-df9194c9-2613-4099-900e-2199b615cb3c",
    "deepnote_to_be_reexecuted": false,
    "source_hash": "3e3dba41",
    "execution_start": 1638893156161,
    "execution_millis": 27,
    "deepnote_cell_type": "code"
   },
   "source": "#entre 0 et 2 -> négatif\n#3->neutre\n#entre 4 et 5 > positif\n\ndef sentiment_col(rating_col):\n    if (rating_col <= 2) :\n        return \"Negative\"\n    elif (rating_col == 3):\n        return \"Neutral\"\n    else : \n        return \"Positive\"\n\ndf['Sentiment'] = df['Rating'].apply(sentiment_col)\n\ndf.head(10)",
   "execution_count": 11,
   "outputs": [
    {
     "output_type": "execute_result",
     "execution_count": 11,
     "data": {
      "application/vnd.deepnote.dataframe.v2+json": {
       "row_count": 10,
       "column_count": 3,
       "columns": [
        {
         "name": "Review",
         "dtype": "object",
         "stats": {
          "unique_count": 10,
          "nan_count": 0,
          "categories": [
           {
            "name": "nice hotel expensive parking got good deal stay hotel anniversary arrived late evening took advice previous review valet parking check quick easy little disappointed non existent view room room clean nice size bed comfortable woke stiff neck high pillow soundproof like heard music room night morning loud bang door opening closing hear people talking hallway maybe noisy neighbor aveda bath product nice goldfish stay nice touch taken advantage staying longer location great walking distance shopping overall nice experience pay parking night",
            "count": 1
           },
           {
            "name": "ok nothing special charge diamond member hilton decided chain shot th anniversary seattle start booked suite paid extra website description suite bedroom bathroom standard hotel room took printed reservation desk showed said thing like tv couch ect desk clerk told oh mixed suite description kimpton website sorry free breakfast got kidding embassy suit sitting room bathroom bedroom unlike kimpton call suite day stay offer correct false advertising send kimpton preferred guest website email asking failure provide suite advertised website reservation description furnished hard copy reservation printout website desk manager duty reply solution send email trip guest survey follow email mail guess tell concerned guest.the staff ranged indifferent helpful asked desk good breakfast spot neighborhood hood told hotel gee best breakfast spot seattle block away convenient hotel know exist arrived late night pm inside run bellman busy chating cell phone help bags.prior arrival emailed hotel inform th anniversary half really picky wanted make sure good got nice email saying like deliver bottle champagne chocolate covered strawberry room arrival celebrate told needed foam pillow arrival champagne strawberry foam pillow great room view alley high rise building good better housekeeping staff cleaner room property impressed left morning shopping room got short trip hour bed comfortable.not good ac heat control x inch screen bring green shine directly eye night light sensitive tape controls.this start hotel clean business hotel super high rate better chain hotel seattle",
            "count": 1
           },
           {
            "name": "8 others",
            "count": 8
           }
          ]
         }
        },
        {
         "name": "Rating",
         "dtype": "int64",
         "stats": {
          "unique_count": 4,
          "nan_count": 0,
          "min": "2",
          "max": "5",
          "histogram": [
           {
            "bin_start": 2,
            "bin_end": 2.3,
            "count": 1
           },
           {
            "bin_start": 2.3,
            "bin_end": 2.6,
            "count": 0
           },
           {
            "bin_start": 2.6,
            "bin_end": 2.9,
            "count": 0
           },
           {
            "bin_start": 2.9,
            "bin_end": 3.2,
            "count": 1
           },
           {
            "bin_start": 3.2,
            "bin_end": 3.5,
            "count": 0
           },
           {
            "bin_start": 3.5,
            "bin_end": 3.8,
            "count": 0
           },
           {
            "bin_start": 3.8,
            "bin_end": 4.1,
            "count": 2
           },
           {
            "bin_start": 4.1,
            "bin_end": 4.4,
            "count": 0
           },
           {
            "bin_start": 4.4,
            "bin_end": 4.699999999999999,
            "count": 0
           },
           {
            "bin_start": 4.699999999999999,
            "bin_end": 5,
            "count": 6
           }
          ]
         }
        },
        {
         "name": "Sentiment",
         "dtype": "object",
         "stats": {
          "unique_count": 3,
          "nan_count": 0,
          "categories": [
           {
            "name": "Positive",
            "count": 8
           },
           {
            "name": "Negative",
            "count": 1
           },
           {
            "name": "Neutral",
            "count": 1
           }
          ]
         }
        },
        {
         "name": "_deepnote_index_column",
         "dtype": "int64"
        }
       ],
       "rows_top": [
        {
         "Review": "nice hotel expensive parking got good deal stay hotel anniversary arrived late evening took advice …",
         "Rating": 4,
         "Sentiment": "Positive",
         "_deepnote_index_column": 0
        },
        {
         "Review": "ok nothing special charge diamond member hilton decided chain shot th anniversary seattle start boo…",
         "Rating": 2,
         "Sentiment": "Negative",
         "_deepnote_index_column": 1
        },
        {
         "Review": "nice room experience hotel monaco seattle good hotel n level.positives large bathroom mediterranean…",
         "Rating": 3,
         "Sentiment": "Neutral",
         "_deepnote_index_column": 2
        },
        {
         "Review": "unique great stay wonderful time hotel monaco location excellent short stroll main downtown shoppin…",
         "Rating": 5,
         "Sentiment": "Positive",
         "_deepnote_index_column": 3
        },
        {
         "Review": "great stay great stay went seahawk game awesome downfall view building n complain room huge staff h…",
         "Rating": 5,
         "Sentiment": "Positive",
         "_deepnote_index_column": 4
        },
        {
         "Review": "love monaco staff husband stayed hotel crazy weekend attending memorial service best friend husband…",
         "Rating": 5,
         "Sentiment": "Positive",
         "_deepnote_index_column": 5
        },
        {
         "Review": "cozy stay rainy city husband spent night monaco early january . business trip chance come ride.we b…",
         "Rating": 5,
         "Sentiment": "Positive",
         "_deepnote_index_column": 6
        },
        {
         "Review": "excellent staff housekeeping quality hotel chocked staff make feel home experienced exceptional ser…",
         "Rating": 4,
         "Sentiment": "Positive",
         "_deepnote_index_column": 7
        },
        {
         "Review": "hotel stayed hotel monaco cruise room generous decorated uniquely hotel remodeled pacific bell buil…",
         "Rating": 5,
         "Sentiment": "Positive",
         "_deepnote_index_column": 8
        },
        {
         "Review": "excellent stayed hotel monaco past w e delight reception staff friendly professional room smart com…",
         "Rating": 5,
         "Sentiment": "Positive",
         "_deepnote_index_column": 9
        }
       ],
       "rows_bottom": null
      },
      "text/plain": "                                              Review  Rating Sentiment\n0  nice hotel expensive parking got good deal sta...       4  Positive\n1  ok nothing special charge diamond member hilto...       2  Negative\n2  nice room experience hotel monaco seattle good...       3   Neutral\n3  unique great stay wonderful time hotel monaco ...       5  Positive\n4  great stay great stay went seahawk game awesom...       5  Positive\n5  love monaco staff husband stayed hotel crazy w...       5  Positive\n6  cozy stay rainy city husband spent night monac...       5  Positive\n7  excellent staff housekeeping quality hotel cho...       4  Positive\n8  hotel stayed hotel monaco cruise room generous...       5  Positive\n9  excellent stayed hotel monaco past w e delight...       5  Positive",
      "text/html": "<div>\n<style scoped>\n    .dataframe tbody tr th:only-of-type {\n        vertical-align: middle;\n    }\n\n    .dataframe tbody tr th {\n        vertical-align: top;\n    }\n\n    .dataframe thead th {\n        text-align: right;\n    }\n</style>\n<table border=\"1\" class=\"dataframe\">\n  <thead>\n    <tr style=\"text-align: right;\">\n      <th></th>\n      <th>Review</th>\n      <th>Rating</th>\n      <th>Sentiment</th>\n    </tr>\n  </thead>\n  <tbody>\n    <tr>\n      <th>0</th>\n      <td>nice hotel expensive parking got good deal sta...</td>\n      <td>4</td>\n      <td>Positive</td>\n    </tr>\n    <tr>\n      <th>1</th>\n      <td>ok nothing special charge diamond member hilto...</td>\n      <td>2</td>\n      <td>Negative</td>\n    </tr>\n    <tr>\n      <th>2</th>\n      <td>nice room experience hotel monaco seattle good...</td>\n      <td>3</td>\n      <td>Neutral</td>\n    </tr>\n    <tr>\n      <th>3</th>\n      <td>unique great stay wonderful time hotel monaco ...</td>\n      <td>5</td>\n      <td>Positive</td>\n    </tr>\n    <tr>\n      <th>4</th>\n      <td>great stay great stay went seahawk game awesom...</td>\n      <td>5</td>\n      <td>Positive</td>\n    </tr>\n    <tr>\n      <th>5</th>\n      <td>love monaco staff husband stayed hotel crazy w...</td>\n      <td>5</td>\n      <td>Positive</td>\n    </tr>\n    <tr>\n      <th>6</th>\n      <td>cozy stay rainy city husband spent night monac...</td>\n      <td>5</td>\n      <td>Positive</td>\n    </tr>\n    <tr>\n      <th>7</th>\n      <td>excellent staff housekeeping quality hotel cho...</td>\n      <td>4</td>\n      <td>Positive</td>\n    </tr>\n    <tr>\n      <th>8</th>\n      <td>hotel stayed hotel monaco cruise room generous...</td>\n      <td>5</td>\n      <td>Positive</td>\n    </tr>\n    <tr>\n      <th>9</th>\n      <td>excellent stayed hotel monaco past w e delight...</td>\n      <td>5</td>\n      <td>Positive</td>\n    </tr>\n  </tbody>\n</table>\n</div>"
     },
     "metadata": {}
    }
   ]
  },
  {
   "cell_type": "code",
   "metadata": {
    "tags": [],
    "cell_id": "00013-87ad3d36-4a96-42e2-8308-5e1a46349d5e",
    "deepnote_to_be_reexecuted": false,
    "source_hash": "824cc0f9",
    "execution_start": 1638893156187,
    "execution_millis": 45,
    "deepnote_cell_type": "code"
   },
   "source": "df_test = df.copy() # on stocke le dataframe nettoyé\ndf_test.head()",
   "execution_count": 12,
   "outputs": [
    {
     "output_type": "execute_result",
     "execution_count": 12,
     "data": {
      "application/vnd.deepnote.dataframe.v2+json": {
       "row_count": 5,
       "column_count": 3,
       "columns": [
        {
         "name": "Review",
         "dtype": "object",
         "stats": {
          "unique_count": 5,
          "nan_count": 0,
          "categories": [
           {
            "name": "nice hotel expensive parking got good deal stay hotel anniversary arrived late evening took advice previous review valet parking check quick easy little disappointed non existent view room room clean nice size bed comfortable woke stiff neck high pillow soundproof like heard music room night morning loud bang door opening closing hear people talking hallway maybe noisy neighbor aveda bath product nice goldfish stay nice touch taken advantage staying longer location great walking distance shopping overall nice experience pay parking night",
            "count": 1
           },
           {
            "name": "ok nothing special charge diamond member hilton decided chain shot th anniversary seattle start booked suite paid extra website description suite bedroom bathroom standard hotel room took printed reservation desk showed said thing like tv couch ect desk clerk told oh mixed suite description kimpton website sorry free breakfast got kidding embassy suit sitting room bathroom bedroom unlike kimpton call suite day stay offer correct false advertising send kimpton preferred guest website email asking failure provide suite advertised website reservation description furnished hard copy reservation printout website desk manager duty reply solution send email trip guest survey follow email mail guess tell concerned guest.the staff ranged indifferent helpful asked desk good breakfast spot neighborhood hood told hotel gee best breakfast spot seattle block away convenient hotel know exist arrived late night pm inside run bellman busy chating cell phone help bags.prior arrival emailed hotel inform th anniversary half really picky wanted make sure good got nice email saying like deliver bottle champagne chocolate covered strawberry room arrival celebrate told needed foam pillow arrival champagne strawberry foam pillow great room view alley high rise building good better housekeeping staff cleaner room property impressed left morning shopping room got short trip hour bed comfortable.not good ac heat control x inch screen bring green shine directly eye night light sensitive tape controls.this start hotel clean business hotel super high rate better chain hotel seattle",
            "count": 1
           },
           {
            "name": "3 others",
            "count": 3
           }
          ]
         }
        },
        {
         "name": "Rating",
         "dtype": "int64",
         "stats": {
          "unique_count": 4,
          "nan_count": 0,
          "min": "2",
          "max": "5",
          "histogram": [
           {
            "bin_start": 2,
            "bin_end": 2.3,
            "count": 1
           },
           {
            "bin_start": 2.3,
            "bin_end": 2.6,
            "count": 0
           },
           {
            "bin_start": 2.6,
            "bin_end": 2.9,
            "count": 0
           },
           {
            "bin_start": 2.9,
            "bin_end": 3.2,
            "count": 1
           },
           {
            "bin_start": 3.2,
            "bin_end": 3.5,
            "count": 0
           },
           {
            "bin_start": 3.5,
            "bin_end": 3.8,
            "count": 0
           },
           {
            "bin_start": 3.8,
            "bin_end": 4.1,
            "count": 1
           },
           {
            "bin_start": 4.1,
            "bin_end": 4.4,
            "count": 0
           },
           {
            "bin_start": 4.4,
            "bin_end": 4.699999999999999,
            "count": 0
           },
           {
            "bin_start": 4.699999999999999,
            "bin_end": 5,
            "count": 2
           }
          ]
         }
        },
        {
         "name": "Sentiment",
         "dtype": "object",
         "stats": {
          "unique_count": 3,
          "nan_count": 0,
          "categories": [
           {
            "name": "Positive",
            "count": 3
           },
           {
            "name": "Negative",
            "count": 1
           },
           {
            "name": "Neutral",
            "count": 1
           }
          ]
         }
        },
        {
         "name": "_deepnote_index_column",
         "dtype": "int64"
        }
       ],
       "rows_top": [
        {
         "Review": "nice hotel expensive parking got good deal stay hotel anniversary arrived late evening took advice …",
         "Rating": 4,
         "Sentiment": "Positive",
         "_deepnote_index_column": 0
        },
        {
         "Review": "ok nothing special charge diamond member hilton decided chain shot th anniversary seattle start boo…",
         "Rating": 2,
         "Sentiment": "Negative",
         "_deepnote_index_column": 1
        },
        {
         "Review": "nice room experience hotel monaco seattle good hotel n level.positives large bathroom mediterranean…",
         "Rating": 3,
         "Sentiment": "Neutral",
         "_deepnote_index_column": 2
        },
        {
         "Review": "unique great stay wonderful time hotel monaco location excellent short stroll main downtown shoppin…",
         "Rating": 5,
         "Sentiment": "Positive",
         "_deepnote_index_column": 3
        },
        {
         "Review": "great stay great stay went seahawk game awesome downfall view building n complain room huge staff h…",
         "Rating": 5,
         "Sentiment": "Positive",
         "_deepnote_index_column": 4
        }
       ],
       "rows_bottom": null
      },
      "text/plain": "                                              Review  Rating Sentiment\n0  nice hotel expensive parking got good deal sta...       4  Positive\n1  ok nothing special charge diamond member hilto...       2  Negative\n2  nice room experience hotel monaco seattle good...       3   Neutral\n3  unique great stay wonderful time hotel monaco ...       5  Positive\n4  great stay great stay went seahawk game awesom...       5  Positive",
      "text/html": "<div>\n<style scoped>\n    .dataframe tbody tr th:only-of-type {\n        vertical-align: middle;\n    }\n\n    .dataframe tbody tr th {\n        vertical-align: top;\n    }\n\n    .dataframe thead th {\n        text-align: right;\n    }\n</style>\n<table border=\"1\" class=\"dataframe\">\n  <thead>\n    <tr style=\"text-align: right;\">\n      <th></th>\n      <th>Review</th>\n      <th>Rating</th>\n      <th>Sentiment</th>\n    </tr>\n  </thead>\n  <tbody>\n    <tr>\n      <th>0</th>\n      <td>nice hotel expensive parking got good deal sta...</td>\n      <td>4</td>\n      <td>Positive</td>\n    </tr>\n    <tr>\n      <th>1</th>\n      <td>ok nothing special charge diamond member hilto...</td>\n      <td>2</td>\n      <td>Negative</td>\n    </tr>\n    <tr>\n      <th>2</th>\n      <td>nice room experience hotel monaco seattle good...</td>\n      <td>3</td>\n      <td>Neutral</td>\n    </tr>\n    <tr>\n      <th>3</th>\n      <td>unique great stay wonderful time hotel monaco ...</td>\n      <td>5</td>\n      <td>Positive</td>\n    </tr>\n    <tr>\n      <th>4</th>\n      <td>great stay great stay went seahawk game awesom...</td>\n      <td>5</td>\n      <td>Positive</td>\n    </tr>\n  </tbody>\n</table>\n</div>"
     },
     "metadata": {}
    }
   ]
  },
  {
   "cell_type": "code",
   "metadata": {
    "tags": [],
    "cell_id": "00013-93080c6c-8f6b-4bef-acb8-a1bddc411dea",
    "deepnote_to_be_reexecuted": false,
    "source_hash": "3cbafd83",
    "execution_start": 1638893156227,
    "execution_millis": 1,
    "deepnote_output_heights": [
     21.1875
    ],
    "deepnote_cell_type": "code"
   },
   "source": "df.drop('Rating', inplace= True, axis = 1)",
   "execution_count": 13,
   "outputs": []
  },
  {
   "cell_type": "code",
   "metadata": {
    "tags": [],
    "cell_id": "00015-e0bf0e2a-1744-461d-b183-3f6761f20d2d",
    "deepnote_to_be_reexecuted": false,
    "source_hash": "d6720bac",
    "execution_start": 1638893156228,
    "execution_millis": 1,
    "deepnote_cell_type": "code"
   },
   "source": "from sklearn.model_selection import train_test_split\n\nX_train, X_test, y_train, y_test = train_test_split(df['Review'], df[['Sentiment']] , test_size= 0.3, random_state=30)",
   "execution_count": 14,
   "outputs": []
  },
  {
   "cell_type": "code",
   "metadata": {
    "tags": [],
    "cell_id": "00017-766eb6e3-6b12-43db-be14-3e32d2b30880",
    "deepnote_to_be_reexecuted": false,
    "source_hash": "a0aa8549",
    "execution_start": 1638893156230,
    "execution_millis": 4,
    "deepnote_cell_type": "code"
   },
   "source": "print(X_train.shape)\nprint(X_test.shape)",
   "execution_count": 15,
   "outputs": [
    {
     "name": "stdout",
     "text": "(7000,)\n(3000,)\n",
     "output_type": "stream"
    }
   ]
  },
  {
   "cell_type": "code",
   "metadata": {
    "tags": [],
    "cell_id": "00014-9e3426cf-8f35-436e-9361-bb60193c1e87",
    "deepnote_to_be_reexecuted": false,
    "source_hash": "e02643ba",
    "execution_start": 1638893156272,
    "execution_millis": 1116,
    "deepnote_cell_type": "code"
   },
   "source": "vectorizer = TfidfVectorizer() # Transforming words into feature vectors. Tfidf is meant for rendering more importance to the rare words.\n\nX_train = vectorizer.fit_transform(X_train)\nX_test = vectorizer.transform(X_test)",
   "execution_count": 16,
   "outputs": []
  },
  {
   "cell_type": "code",
   "source": "# ## Saving the vectorizer\n\n# # Save to file in the current working directory\n# with open(\"/work/vectorizer.pkl\", 'wb') as file:\n#     pickle.dump(vectorizer, file)",
   "metadata": {
    "tags": [],
    "cell_id": "00019-0f79ee14-9dc7-454c-b6f1-2cc29d12850a",
    "deepnote_to_be_reexecuted": false,
    "source_hash": "c4441236",
    "execution_start": 1638893157395,
    "execution_millis": 43,
    "deepnote_cell_type": "code"
   },
   "outputs": [],
   "execution_count": 17
  },
  {
   "cell_type": "code",
   "metadata": {
    "tags": [],
    "cell_id": "00018-46d73f03-14de-4dce-a548-7d4375bbb755",
    "deepnote_to_be_reexecuted": false,
    "source_hash": "5be788aa",
    "execution_start": 1638893157438,
    "execution_millis": 2,
    "deepnote_cell_type": "code"
   },
   "source": "print(vectorizer.get_feature_names()[:20])",
   "execution_count": 18,
   "outputs": [
    {
     "name": "stdout",
     "text": "['aa', 'aaa', 'aaaaa', 'aaaaaaaaaaaaaaa', 'aaah', 'aahh', 'aarp', 'aavacations', 'ab', 'abac', 'aback', 'abaited', 'abandon', 'abandoned', 'abatement', 'abba', 'abbaye', 'abbelouie', 'abberation', 'abbey']\n",
     "output_type": "stream"
    }
   ]
  },
  {
   "cell_type": "code",
   "metadata": {
    "tags": [],
    "cell_id": "00019-39b91f7e-b859-4f77-b41a-cc16cddde2fe",
    "deepnote_to_be_reexecuted": false,
    "source_hash": "a0aa8549",
    "execution_start": 1638893157482,
    "execution_millis": 2,
    "deepnote_cell_type": "code"
   },
   "source": "print(X_train.shape)\nprint(X_test.shape)",
   "execution_count": 19,
   "outputs": [
    {
     "name": "stdout",
     "text": "(7000, 25260)\n(3000, 25260)\n",
     "output_type": "stream"
    }
   ]
  },
  {
   "cell_type": "markdown",
   "source": "### 3. Sentiment Analysis with Logistic Regression",
   "metadata": {
    "tags": [],
    "cell_id": "00021-18d01473-60cc-4555-8806-84cb044ee35f",
    "deepnote_cell_type": "markdown"
   }
  },
  {
   "cell_type": "code",
   "metadata": {
    "tags": [],
    "cell_id": "00020-1f0deac5-ec49-4c4c-a2af-5bc70a86cc3f",
    "deepnote_to_be_reexecuted": false,
    "source_hash": "988883b6",
    "execution_start": 1638893157483,
    "execution_millis": 3633,
    "deepnote_output_heights": [
     21.1875
    ],
    "deepnote_cell_type": "code"
   },
   "source": "from sklearn.linear_model import LogisticRegression\n\nlr = LogisticRegression()\nlr.fit(X_train, y_train)\nlr.score(X_test, y_test)",
   "execution_count": 20,
   "outputs": [
    {
     "output_type": "execute_result",
     "execution_count": 20,
     "data": {
      "text/plain": "0.8536666666666667"
     },
     "metadata": {}
    }
   ]
  },
  {
   "cell_type": "code",
   "metadata": {
    "tags": [],
    "cell_id": "00022-d9aae0bf-766f-4bc8-ae9d-4064e1306141",
    "deepnote_to_be_reexecuted": false,
    "source_hash": "b691cd23",
    "execution_start": 1638893161123,
    "execution_millis": 11,
    "deepnote_cell_type": "code"
   },
   "source": "## Saving the model\n\n# # Save to file in the current working directory\n# with open(\"/work/lr_model.pkl\", 'wb') as file:\n#     pickle.dump(lr, file)",
   "execution_count": 21,
   "outputs": []
  },
  {
   "cell_type": "code",
   "metadata": {
    "tags": [],
    "cell_id": "00022-9690cdce-76f1-4e87-99a3-b6ea0d68f986",
    "deepnote_to_be_reexecuted": false,
    "source_hash": "58967333",
    "execution_start": 1638893161145,
    "execution_millis": 14,
    "deepnote_cell_type": "code"
   },
   "source": "y_pred = lr.predict(X_test)\n\nprint(\"Accuracy on the testing set is:\",accuracy_score(y_pred, y_test))",
   "execution_count": 22,
   "outputs": [
    {
     "name": "stdout",
     "text": "Accuracy on the testing set is: 0.8536666666666667\n",
     "output_type": "stream"
    }
   ]
  },
  {
   "cell_type": "code",
   "metadata": {
    "tags": [],
    "cell_id": "00023-5315abc0-9e1a-49b5-802c-c7a560ef4127",
    "deepnote_to_be_reexecuted": false,
    "source_hash": "b4dd77dd",
    "execution_start": 1638893161167,
    "execution_millis": 28,
    "deepnote_output_heights": [
     59.59375
    ],
    "deepnote_cell_type": "code"
   },
   "source": "print(type(y_pred))\nprint(type(y_test))",
   "execution_count": 23,
   "outputs": [
    {
     "name": "stdout",
     "text": "<class 'numpy.ndarray'>\n<class 'pandas.core.frame.DataFrame'>\n",
     "output_type": "stream"
    }
   ]
  },
  {
   "cell_type": "code",
   "metadata": {
    "tags": [],
    "cell_id": "00022-a9458c16-9f26-404d-bf7e-4c7d0db2e317",
    "deepnote_to_be_reexecuted": false,
    "source_hash": "4c64824b",
    "execution_start": 1638893161202,
    "execution_millis": 7,
    "deepnote_cell_type": "code"
   },
   "source": "# Checking accuracy of the model thanks to a Dataframe\n\npreds = pd.DataFrame(y_pred, columns = [\"Sentiment\"])\n\nj = {'predicted': preds['Sentiment'], 'actuals': y_test['Sentiment'].tolist()}\nresults = pd.DataFrame(j)",
   "execution_count": 24,
   "outputs": []
  },
  {
   "cell_type": "code",
   "metadata": {
    "tags": [],
    "cell_id": "00023-278f303f-cd2d-4d88-a0b8-7013cd597fdf",
    "deepnote_to_be_reexecuted": false,
    "source_hash": "bbf6d4b8",
    "execution_start": 1638893161273,
    "execution_millis": 2,
    "deepnote_output_heights": [
     322
    ],
    "deepnote_cell_type": "code"
   },
   "source": "results.head(10)",
   "execution_count": 25,
   "outputs": [
    {
     "output_type": "execute_result",
     "execution_count": 25,
     "data": {
      "application/vnd.deepnote.dataframe.v2+json": {
       "row_count": 10,
       "column_count": 2,
       "columns": [
        {
         "name": "predicted",
         "dtype": "object",
         "stats": {
          "unique_count": 2,
          "nan_count": 0,
          "categories": [
           {
            "name": "Positive",
            "count": 9
           },
           {
            "name": "Negative",
            "count": 1
           }
          ]
         }
        },
        {
         "name": "actuals",
         "dtype": "object",
         "stats": {
          "unique_count": 2,
          "nan_count": 0,
          "categories": [
           {
            "name": "Positive",
            "count": 8
           },
           {
            "name": "Negative",
            "count": 2
           }
          ]
         }
        },
        {
         "name": "_deepnote_index_column",
         "dtype": "int64"
        }
       ],
       "rows_top": [
        {
         "predicted": "Positive",
         "actuals": "Positive",
         "_deepnote_index_column": 0
        },
        {
         "predicted": "Positive",
         "actuals": "Positive",
         "_deepnote_index_column": 1
        },
        {
         "predicted": "Positive",
         "actuals": "Positive",
         "_deepnote_index_column": 2
        },
        {
         "predicted": "Positive",
         "actuals": "Positive",
         "_deepnote_index_column": 3
        },
        {
         "predicted": "Positive",
         "actuals": "Negative",
         "_deepnote_index_column": 4
        },
        {
         "predicted": "Positive",
         "actuals": "Positive",
         "_deepnote_index_column": 5
        },
        {
         "predicted": "Positive",
         "actuals": "Positive",
         "_deepnote_index_column": 6
        },
        {
         "predicted": "Positive",
         "actuals": "Positive",
         "_deepnote_index_column": 7
        },
        {
         "predicted": "Negative",
         "actuals": "Negative",
         "_deepnote_index_column": 8
        },
        {
         "predicted": "Positive",
         "actuals": "Positive",
         "_deepnote_index_column": 9
        }
       ],
       "rows_bottom": null
      },
      "text/plain": "  predicted   actuals\n0  Positive  Positive\n1  Positive  Positive\n2  Positive  Positive\n3  Positive  Positive\n4  Positive  Negative\n5  Positive  Positive\n6  Positive  Positive\n7  Positive  Positive\n8  Negative  Negative\n9  Positive  Positive",
      "text/html": "<div>\n<style scoped>\n    .dataframe tbody tr th:only-of-type {\n        vertical-align: middle;\n    }\n\n    .dataframe tbody tr th {\n        vertical-align: top;\n    }\n\n    .dataframe thead th {\n        text-align: right;\n    }\n</style>\n<table border=\"1\" class=\"dataframe\">\n  <thead>\n    <tr style=\"text-align: right;\">\n      <th></th>\n      <th>predicted</th>\n      <th>actuals</th>\n    </tr>\n  </thead>\n  <tbody>\n    <tr>\n      <th>0</th>\n      <td>Positive</td>\n      <td>Positive</td>\n    </tr>\n    <tr>\n      <th>1</th>\n      <td>Positive</td>\n      <td>Positive</td>\n    </tr>\n    <tr>\n      <th>2</th>\n      <td>Positive</td>\n      <td>Positive</td>\n    </tr>\n    <tr>\n      <th>3</th>\n      <td>Positive</td>\n      <td>Positive</td>\n    </tr>\n    <tr>\n      <th>4</th>\n      <td>Positive</td>\n      <td>Negative</td>\n    </tr>\n    <tr>\n      <th>5</th>\n      <td>Positive</td>\n      <td>Positive</td>\n    </tr>\n    <tr>\n      <th>6</th>\n      <td>Positive</td>\n      <td>Positive</td>\n    </tr>\n    <tr>\n      <th>7</th>\n      <td>Positive</td>\n      <td>Positive</td>\n    </tr>\n    <tr>\n      <th>8</th>\n      <td>Negative</td>\n      <td>Negative</td>\n    </tr>\n    <tr>\n      <th>9</th>\n      <td>Positive</td>\n      <td>Positive</td>\n    </tr>\n  </tbody>\n</table>\n</div>"
     },
     "metadata": {}
    }
   ]
  },
  {
   "cell_type": "markdown",
   "source": "<a style='text-decoration:none;line-height:16px;display:flex;color:#5B5B62;padding:10px;justify-content:end;' href='https://deepnote.com?utm_source=created-in-deepnote-cell&projectId=da7210bc-0116-43a8-af43-f683c0618835' target=\"_blank\">\n<img alt='Created in deepnote.com' style='display:inline;max-height:16px;margin:0px;margin-right:7.5px;' src='data:image/svg+xml;base64,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' > </img>\nCreated in <span style='font-weight:600;margin-left:4px;'>Deepnote</span></a>",
   "metadata": {
    "tags": [],
    "created_in_deepnote_cell": true,
    "deepnote_cell_type": "markdown"
   }
  }
 ],
 "nbformat": 4,
 "nbformat_minor": 2,
 "metadata": {
  "orig_nbformat": 2,
  "deepnote": {
   "is_reactive": false
  },
  "deepnote_notebook_id": "0526ed9a-2397-442e-b47e-d952372e9668",
  "deepnote_execution_queue": []
 }
}